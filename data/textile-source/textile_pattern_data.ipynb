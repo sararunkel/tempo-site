{
 "cells": [
  {
   "cell_type": "code",
   "execution_count": 1,
   "id": "b8a11315",
   "metadata": {},
   "outputs": [],
   "source": [
    "import os\n",
    "import glob \n",
    "import re\n",
    "\n",
    "import earthpy as et\n",
    "import geojson\n",
    "import pandas as pd\n",
    "import geopandas as gpd"
   ]
  },
  {
   "cell_type": "code",
   "execution_count": 2,
   "id": "0e4401a6",
   "metadata": {},
   "outputs": [
    {
     "data": {
      "text/plain": [
       "'/Users/robynmarowitz/projects/tempo-site/data/textile-source'"
      ]
     },
     "execution_count": 2,
     "metadata": {},
     "output_type": "execute_result"
    }
   ],
   "source": [
    "pwd"
   ]
  },
  {
   "cell_type": "code",
   "execution_count": 3,
   "id": "f760159b",
   "metadata": {},
   "outputs": [],
   "source": [
    "os.chdir(\"../monthly\")\n",
    "# print(glob.glob('*'))"
   ]
  },
  {
   "cell_type": "code",
   "execution_count": 4,
   "id": "bdcdcaab",
   "metadata": {},
   "outputs": [
    {
     "data": {
      "text/plain": [
       "['HAQ_TEMPO_NO2_CONUS_QA75_L3_Monthly_022024_15Z_V3.geojson',\n",
       " 'HAQ_TEMPO_NO2_CONUS_QA75_L3_Monthly_062024_01Z_V3.geojson',\n",
       " 'HAQ_TEMPO_NO2_CONUS_QA75_L3_Monthly_082023_11Z_V3.geojson',\n",
       " 'HAQ_TEMPO_NO2_CONUS_QA75_L3_Monthly_082024_18Z_V3.geojson',\n",
       " 'HAQ_TEMPO_NO2_CONUS_QA75_L3_Monthly_052024_18Z_V3.geojson',\n",
       " 'HAQ_TEMPO_NO2_CONUS_QA75_L3_Monthly_072024_13Z_V3.geojson',\n",
       " 'HAQ_TEMPO_NO2_CONUS_QA75_L3_Monthly_112023_19Z_V3.geojson',\n",
       " 'HAQ_TEMPO_NO2_CONUS_QA75_L3_Monthly_012024_22Z_V3.geojson',\n",
       " 'HAQ_TEMPO_NO2_CONUS_QA75_L3_Monthly_042024_16Z_V3.geojson',\n",
       " 'HAQ_TEMPO_NO2_CONUS_QA75_L3_Monthly_082023_23Z_V3.geojson',\n",
       " 'HAQ_TEMPO_NO2_CONUS_QA75_L3_Monthly_102023_17Z_V3.geojson',\n",
       " 'HAQ_TEMPO_NO2_CONUS_QA75_L3_Monthly_072024_21Z_V3.geojson',\n",
       " 'HAQ_TEMPO_NO2_CONUS_QA75_L3_Monthly_052024_11Z_V3.geojson',\n",
       " 'HAQ_TEMPO_NO2_CONUS_QA75_L3_Monthly_082024_11Z_V3.geojson',\n",
       " 'HAQ_TEMPO_NO2_CONUS_QA75_L3_Monthly_082023_18Z_V3.geojson',\n",
       " 'HAQ_TEMPO_NO2_CONUS_QA75_L3_Monthly_032024_20Z_V3.geojson',\n",
       " 'HAQ_TEMPO_NO2_CONUS_QA75_L3_Monthly_082024_23Z_V3.geojson',\n",
       " 'HAQ_TEMPO_NO2_CONUS_QA75_L3_Monthly_032024_12Z_V3.geojson',\n",
       " 'HAQ_TEMPO_NO2_CONUS_QA75_L3_Monthly_122023_15Z_V3.geojson',\n",
       " 'HAQ_TEMPO_NO2_CONUS_QA75_L3_Monthly_092023_16Z_V3.geojson',\n",
       " 'HAQ_TEMPO_NO2_CONUS_QA75_L3_Monthly_052024_23Z_V3.geojson',\n",
       " 'HAQ_TEMPO_NO2_CONUS_QA75_L3_Monthly_022024_00Z_V3.geojson',\n",
       " 'HAQ_TEMPO_NO2_CONUS_QA75_L3_Monthly_062024_14Z_V3.geojson',\n",
       " 'HAQ_TEMPO_NO2_CONUS_QA75_L3_Monthly_012024_19Z_V3.geojson',\n",
       " 'HAQ_TEMPO_NO2_CONUS_QA75_L3_Monthly_112023_22Z_V3.geojson',\n",
       " 'HAQ_TEMPO_NO2_CONUS_QA75_L3_Monthly_062024_23Z_V3.geojson',\n",
       " 'HAQ_TEMPO_NO2_CONUS_QA75_L3_Monthly_112023_15Z_V3.geojson',\n",
       " 'HAQ_TEMPO_NO2_CONUS_QA75_L3_Monthly_092023_21Z_V3.geojson',\n",
       " 'HAQ_TEMPO_NO2_CONUS_QA75_L3_Monthly_022024_19Z_V3.geojson',\n",
       " 'HAQ_TEMPO_NO2_CONUS_QA75_L3_Monthly_082024_14Z_V3.geojson',\n",
       " 'HAQ_TEMPO_NO2_CONUS_QA75_L3_Monthly_122023_22Z_V3.geojson',\n",
       " 'HAQ_TEMPO_NO2_CONUS_QA75_L3_Monthly_052024_14Z_V3.geojson',\n",
       " 'HAQ_TEMPO_NO2_CONUS_QA75_L3_Monthly_062024_11Z_V3.geojson',\n",
       " 'HAQ_TEMPO_NO2_CONUS_QA75_L3_Monthly_082023_01Z_V3.geojson',\n",
       " 'HAQ_TEMPO_NO2_CONUS_QA75_L3_Monthly_092023_13Z_V3.geojson',\n",
       " 'HAQ_TEMPO_NO2_CONUS_QA75_L3_Monthly_032024_17Z_V3.geojson',\n",
       " 'HAQ_TEMPO_NO2_CONUS_QA75_L3_Monthly_102023_20Z_V3.geojson',\n",
       " 'HAQ_TEMPO_NO2_CONUS_QA75_L3_Monthly_072024_16Z_V3.geojson',\n",
       " 'HAQ_TEMPO_NO2_CONUS_QA75_L3_Monthly_042024_21Z_V3.geojson',\n",
       " 'HAQ_TEMPO_NO2_CONUS_QA75_L3_Monthly_082023_14Z_V3.geojson',\n",
       " 'HAQ_TEMPO_NO2_CONUS_QA75_L3_Monthly_082024_01Z_V3.geojson',\n",
       " 'HAQ_TEMPO_NO2_CONUS_QA75_L3_Monthly_062024_18Z_V3.geojson',\n",
       " 'HAQ_TEMPO_NO2_CONUS_QA75_L3_Monthly_012024_15Z_V3.geojson',\n",
       " 'HAQ_TEMPO_NO2_CONUS_QA75_L3_Monthly_102023_12Z_V3.geojson',\n",
       " 'HAQ_TEMPO_NO2_CONUS_QA75_L3_Monthly_052024_01Z_V3.geojson',\n",
       " 'HAQ_TEMPO_NO2_CONUS_QA75_L3_Monthly_122023_19Z_V3.geojson',\n",
       " 'HAQ_TEMPO_NO2_CONUS_QA75_L3_Monthly_022024_22Z_V3.geojson',\n",
       " 'HAQ_TEMPO_NO2_CONUS_QA75_L3_Monthly_112023_00Z_V3.geojson',\n",
       " 'HAQ_TEMPO_NO2_CONUS_QA75_L3_Monthly_042024_13Z_V3.geojson',\n",
       " 'HAQ_TEMPO_NO2_CONUS_QA75_L3_Monthly_092023_19Z_V3.geojson',\n",
       " 'HAQ_TEMPO_NO2_CONUS_QA75_L3_Monthly_022024_21Z_V3.geojson',\n",
       " 'HAQ_TEMPO_NO2_CONUS_QA75_L3_Monthly_012024_16Z_V3.geojson',\n",
       " 'HAQ_TEMPO_NO2_CONUS_QA75_L3_Monthly_102023_11Z_V3.geojson',\n",
       " 'HAQ_TEMPO_NO2_CONUS_QA75_L3_Monthly_042024_22Z_V3.geojson',\n",
       " 'HAQ_TEMPO_NO2_CONUS_QA75_L3_Monthly_022024_13Z_V3.geojson',\n",
       " 'HAQ_TEMPO_NO2_CONUS_QA75_L3_Monthly_082023_17Z_V3.geojson',\n",
       " 'HAQ_TEMPO_NO2_CONUS_QA75_L3_Monthly_102023_23Z_V3.geojson',\n",
       " 'HAQ_TEMPO_NO2_CONUS_QA75_L3_Monthly_072024_15Z_V3.geojson',\n",
       " 'HAQ_TEMPO_NO2_CONUS_QA75_L3_Monthly_042024_19Z_V3.geojson',\n",
       " 'HAQ_TEMPO_NO2_CONUS_QA75_L3_Monthly_032024_14Z_V3.geojson',\n",
       " 'HAQ_TEMPO_NO2_CONUS_QA75_L3_Monthly_122023_13Z_V3.geojson',\n",
       " 'HAQ_TEMPO_NO2_CONUS_QA75_L3_Monthly_072024_00Z_V3.geojson',\n",
       " 'HAQ_TEMPO_NO2_CONUS_QA75_L3_Monthly_102023_18Z_V3.geojson',\n",
       " 'HAQ_TEMPO_NO2_CONUS_QA75_L3_Monthly_062024_12Z_V3.geojson',\n",
       " 'HAQ_TEMPO_NO2_CONUS_QA75_L3_Monthly_122023_21Z_V3.geojson',\n",
       " 'HAQ_TEMPO_NO2_CONUS_QA75_L3_Monthly_082024_17Z_V3.geojson',\n",
       " 'HAQ_TEMPO_NO2_CONUS_QA75_L3_Monthly_092023_22Z_V3.geojson',\n",
       " 'HAQ_TEMPO_NO2_CONUS_QA75_L3_Monthly_052024_17Z_V3.geojson',\n",
       " 'HAQ_TEMPO_NO2_CONUS_QA75_L3_Monthly_062024_20Z_V3.geojson',\n",
       " 'HAQ_TEMPO_NO2_CONUS_QA75_L3_Monthly_112023_16Z_V3.geojson',\n",
       " 'HAQ_TEMPO_NO2_CONUS_QA75_L3_Monthly_062024_17Z_V3.geojson',\n",
       " 'HAQ_TEMPO_NO2_CONUS_QA75_L3_Monthly_112023_21Z_V3.geojson',\n",
       " 'HAQ_TEMPO_NO2_CONUS_QA75_L3_Monthly_092023_15Z_V3.geojson',\n",
       " 'HAQ_TEMPO_NO2_CONUS_QA75_L3_Monthly_032024_11Z_V3.geojson',\n",
       " 'HAQ_TEMPO_NO2_CONUS_QA75_L3_Monthly_122023_16Z_V3.geojson',\n",
       " 'HAQ_TEMPO_NO2_CONUS_QA75_L3_Monthly_082024_20Z_V3.geojson',\n",
       " 'HAQ_TEMPO_NO2_CONUS_QA75_L3_Monthly_052024_20Z_V3.geojson',\n",
       " 'HAQ_TEMPO_NO2_CONUS_QA75_L3_Monthly_112023_13Z_V3.geojson',\n",
       " 'HAQ_TEMPO_NO2_CONUS_QA75_L3_Monthly_042024_00Z_V3.geojson',\n",
       " 'HAQ_TEMPO_NO2_CONUS_QA75_L3_Monthly_072024_19Z_V3.geojson',\n",
       " 'HAQ_TEMPO_NO2_CONUS_QA75_L3_Monthly_052024_12Z_V3.geojson',\n",
       " 'HAQ_TEMPO_NO2_CONUS_QA75_L3_Monthly_032024_23Z_V3.geojson',\n",
       " 'HAQ_TEMPO_NO2_CONUS_QA75_L3_Monthly_082024_12Z_V3.geojson',\n",
       " 'HAQ_TEMPO_NO2_CONUS_QA75_L3_Monthly_012024_13Z_V3.geojson',\n",
       " 'HAQ_TEMPO_NO2_CONUS_QA75_L3_Monthly_102023_14Z_V3.geojson',\n",
       " 'HAQ_TEMPO_NO2_CONUS_QA75_L3_Monthly_072024_22Z_V3.geojson',\n",
       " 'HAQ_TEMPO_NO2_CONUS_QA75_L3_Monthly_042024_15Z_V3.geojson',\n",
       " 'HAQ_TEMPO_NO2_CONUS_QA75_L3_Monthly_082023_20Z_V3.geojson',\n",
       " 'HAQ_TEMPO_NO2_CONUS_QA75_L3_Monthly_032024_18Z_V3.geojson',\n",
       " 'HAQ_TEMPO_NO2_CONUS_QA75_L3_Monthly_092023_00Z_V3.geojson',\n",
       " 'HAQ_TEMPO_NO2_CONUS_QA75_L3_Monthly_012024_21Z_V3.geojson',\n",
       " 'HAQ_TEMPO_NO2_CONUS_QA75_L3_Monthly_082023_12Z_V3.geojson',\n",
       " 'HAQ_TEMPO_NO2_CONUS_QA75_L3_Monthly_022024_16Z_V3.geojson',\n",
       " 'HAQ_TEMPO_NO2_CONUS_QA75_L3_Monthly_052024_00Z_V3.geojson',\n",
       " 'HAQ_TEMPO_NO2_CONUS_QA75_L3_Monthly_102023_13Z_V3.geojson',\n",
       " 'HAQ_TEMPO_NO2_CONUS_QA75_L3_Monthly_012024_14Z_V3.geojson',\n",
       " 'HAQ_TEMPO_NO2_CONUS_QA75_L3_Monthly_062024_19Z_V3.geojson',\n",
       " 'HAQ_TEMPO_NO2_CONUS_QA75_L3_Monthly_082024_00Z_V3.geojson',\n",
       " 'HAQ_TEMPO_NO2_CONUS_QA75_L3_Monthly_042024_12Z_V3.geojson',\n",
       " 'HAQ_TEMPO_NO2_CONUS_QA75_L3_Monthly_022024_23Z_V3.geojson',\n",
       " 'HAQ_TEMPO_NO2_CONUS_QA75_L3_Monthly_122023_18Z_V3.geojson',\n",
       " 'HAQ_TEMPO_NO2_CONUS_QA75_L3_Monthly_072024_17Z_V3.geojson',\n",
       " 'HAQ_TEMPO_NO2_CONUS_QA75_L3_Monthly_102023_21Z_V3.geojson',\n",
       " 'HAQ_TEMPO_NO2_CONUS_QA75_L3_Monthly_082023_15Z_V3.geojson',\n",
       " 'HAQ_TEMPO_NO2_CONUS_QA75_L3_Monthly_042024_20Z_V3.geojson',\n",
       " 'HAQ_TEMPO_NO2_CONUS_QA75_L3_Monthly_082023_00Z_V3.geojson',\n",
       " 'HAQ_TEMPO_NO2_CONUS_QA75_L3_Monthly_032024_16Z_V3.geojson',\n",
       " 'HAQ_TEMPO_NO2_CONUS_QA75_L3_Monthly_092023_12Z_V3.geojson',\n",
       " 'HAQ_TEMPO_NO2_CONUS_QA75_L3_Monthly_112023_14Z_V3.geojson',\n",
       " 'HAQ_TEMPO_NO2_CONUS_QA75_L3_Monthly_062024_22Z_V3.geojson',\n",
       " 'HAQ_TEMPO_NO2_CONUS_QA75_L3_Monthly_052024_15Z_V3.geojson',\n",
       " 'HAQ_TEMPO_NO2_CONUS_QA75_L3_Monthly_122023_23Z_V3.geojson',\n",
       " 'HAQ_TEMPO_NO2_CONUS_QA75_L3_Monthly_082024_15Z_V3.geojson',\n",
       " 'HAQ_TEMPO_NO2_CONUS_QA75_L3_Monthly_022024_18Z_V3.geojson',\n",
       " 'HAQ_TEMPO_NO2_CONUS_QA75_L3_Monthly_092023_20Z_V3.geojson',\n",
       " 'HAQ_TEMPO_NO2_CONUS_QA75_L3_Monthly_052024_22Z_V3.geojson',\n",
       " 'HAQ_TEMPO_NO2_CONUS_QA75_L3_Monthly_092023_17Z_V3.geojson',\n",
       " 'HAQ_TEMPO_NO2_CONUS_QA75_L3_Monthly_122023_14Z_V3.geojson',\n",
       " 'HAQ_TEMPO_NO2_CONUS_QA75_L3_Monthly_032024_13Z_V3.geojson',\n",
       " 'HAQ_TEMPO_NO2_CONUS_QA75_L3_Monthly_082024_22Z_V3.geojson',\n",
       " 'HAQ_TEMPO_NO2_CONUS_QA75_L3_Monthly_112023_23Z_V3.geojson',\n",
       " 'HAQ_TEMPO_NO2_CONUS_QA75_L3_Monthly_012024_18Z_V3.geojson',\n",
       " 'HAQ_TEMPO_NO2_CONUS_QA75_L3_Monthly_062024_15Z_V3.geojson',\n",
       " 'HAQ_TEMPO_NO2_CONUS_QA75_L3_Monthly_032024_21Z_V3.geojson',\n",
       " 'HAQ_TEMPO_NO2_CONUS_QA75_L3_Monthly_082023_19Z_V3.geojson',\n",
       " 'HAQ_TEMPO_NO2_CONUS_QA75_L3_Monthly_112023_11Z_V3.geojson',\n",
       " 'HAQ_TEMPO_NO2_CONUS_QA75_L3_Monthly_082023_22Z_V3.geojson',\n",
       " 'HAQ_TEMPO_NO2_CONUS_QA75_L3_Monthly_042024_17Z_V3.geojson',\n",
       " 'HAQ_TEMPO_NO2_CONUS_QA75_L3_Monthly_072024_20Z_V3.geojson',\n",
       " 'HAQ_TEMPO_NO2_CONUS_QA75_L3_Monthly_102023_16Z_V3.geojson',\n",
       " 'HAQ_TEMPO_NO2_CONUS_QA75_L3_Monthly_052024_19Z_V3.geojson',\n",
       " 'HAQ_TEMPO_NO2_CONUS_QA75_L3_Monthly_082024_19Z_V3.geojson',\n",
       " 'HAQ_TEMPO_NO2_CONUS_QA75_L3_Monthly_062024_00Z_V3.geojson',\n",
       " 'HAQ_TEMPO_NO2_CONUS_QA75_L3_Monthly_022024_14Z_V3.geojson',\n",
       " 'HAQ_TEMPO_NO2_CONUS_QA75_L3_Monthly_012024_23Z_V3.geojson',\n",
       " 'HAQ_TEMPO_NO2_CONUS_QA75_L3_Monthly_112023_18Z_V3.geojson',\n",
       " 'HAQ_TEMPO_NO2_CONUS_QA75_L3_Monthly_072024_12Z_V3.geojson',\n",
       " 'HAQ_TEMPO_NO2_CONUS_QA75_L3_Monthly_012024_20Z_V3.geojson',\n",
       " 'HAQ_TEMPO_NO2_CONUS_QA75_L3_Monthly_092023_01Z_V3.geojson',\n",
       " 'HAQ_TEMPO_NO2_CONUS_QA75_L3_Monthly_072024_11Z_V3.geojson',\n",
       " 'HAQ_TEMPO_NO2_CONUS_QA75_L3_Monthly_022024_17Z_V3.geojson',\n",
       " 'HAQ_TEMPO_NO2_CONUS_QA75_L3_Monthly_082023_13Z_V3.geojson',\n",
       " 'HAQ_TEMPO_NO2_CONUS_QA75_L3_Monthly_072024_23Z_V3.geojson',\n",
       " 'HAQ_TEMPO_NO2_CONUS_QA75_L3_Monthly_102023_15Z_V3.geojson',\n",
       " 'HAQ_TEMPO_NO2_CONUS_QA75_L3_Monthly_012024_12Z_V3.geojson',\n",
       " 'HAQ_TEMPO_NO2_CONUS_QA75_L3_Monthly_032024_19Z_V3.geojson',\n",
       " 'HAQ_TEMPO_NO2_CONUS_QA75_L3_Monthly_082023_21Z_V3.geojson',\n",
       " 'HAQ_TEMPO_NO2_CONUS_QA75_L3_Monthly_042024_14Z_V3.geojson',\n",
       " 'HAQ_TEMPO_NO2_CONUS_QA75_L3_Monthly_072024_18Z_V3.geojson',\n",
       " 'HAQ_TEMPO_NO2_CONUS_QA75_L3_Monthly_042024_01Z_V3.geojson',\n",
       " 'HAQ_TEMPO_NO2_CONUS_QA75_L3_Monthly_112023_12Z_V3.geojson',\n",
       " 'HAQ_TEMPO_NO2_CONUS_QA75_L3_Monthly_082024_13Z_V3.geojson',\n",
       " 'HAQ_TEMPO_NO2_CONUS_QA75_L3_Monthly_032024_22Z_V3.geojson',\n",
       " 'HAQ_TEMPO_NO2_CONUS_QA75_L3_Monthly_052024_13Z_V3.geojson',\n",
       " 'HAQ_TEMPO_NO2_CONUS_QA75_L3_Monthly_102023_00Z_V3.geojson',\n",
       " 'HAQ_TEMPO_NO2_CONUS_QA75_L3_Monthly_112023_20Z_V3.geojson',\n",
       " 'HAQ_TEMPO_NO2_CONUS_QA75_L3_Monthly_062024_16Z_V3.geojson',\n",
       " 'HAQ_TEMPO_NO2_CONUS_QA75_L3_Monthly_052024_21Z_V3.geojson',\n",
       " 'HAQ_TEMPO_NO2_CONUS_QA75_L3_Monthly_082024_21Z_V3.geojson',\n",
       " 'HAQ_TEMPO_NO2_CONUS_QA75_L3_Monthly_122023_17Z_V3.geojson',\n",
       " 'HAQ_TEMPO_NO2_CONUS_QA75_L3_Monthly_092023_14Z_V3.geojson',\n",
       " 'HAQ_TEMPO_NO2_CONUS_QA75_L3_Monthly_052024_16Z_V3.geojson',\n",
       " 'HAQ_TEMPO_NO2_CONUS_QA75_L3_Monthly_092023_23Z_V3.geojson',\n",
       " 'HAQ_TEMPO_NO2_CONUS_QA75_L3_Monthly_082024_16Z_V3.geojson',\n",
       " 'HAQ_TEMPO_NO2_CONUS_QA75_L3_Monthly_122023_20Z_V3.geojson',\n",
       " 'HAQ_TEMPO_NO2_CONUS_QA75_L3_Monthly_112023_17Z_V3.geojson',\n",
       " 'HAQ_TEMPO_NO2_CONUS_QA75_L3_Monthly_062024_21Z_V3.geojson',\n",
       " 'HAQ_TEMPO_NO2_CONUS_QA75_L3_Monthly_092023_11Z_V3.geojson',\n",
       " 'HAQ_TEMPO_NO2_CONUS_QA75_L3_Monthly_072024_01Z_V3.geojson',\n",
       " 'HAQ_TEMPO_NO2_CONUS_QA75_L3_Monthly_122023_12Z_V3.geojson',\n",
       " 'HAQ_TEMPO_NO2_CONUS_QA75_L3_Monthly_032024_15Z_V3.geojson',\n",
       " 'HAQ_TEMPO_NO2_CONUS_QA75_L3_Monthly_042024_18Z_V3.geojson',\n",
       " 'HAQ_TEMPO_NO2_CONUS_QA75_L3_Monthly_062024_13Z_V3.geojson',\n",
       " 'HAQ_TEMPO_NO2_CONUS_QA75_L3_Monthly_102023_19Z_V3.geojson',\n",
       " 'HAQ_TEMPO_NO2_CONUS_QA75_L3_Monthly_082023_16Z_V3.geojson',\n",
       " 'HAQ_TEMPO_NO2_CONUS_QA75_L3_Monthly_022024_12Z_V3.geojson',\n",
       " 'HAQ_TEMPO_NO2_CONUS_QA75_L3_Monthly_042024_23Z_V3.geojson',\n",
       " 'HAQ_TEMPO_NO2_CONUS_QA75_L3_Monthly_072024_14Z_V3.geojson',\n",
       " 'HAQ_TEMPO_NO2_CONUS_QA75_L3_Monthly_032024_00Z_V3.geojson',\n",
       " 'HAQ_TEMPO_NO2_CONUS_QA75_L3_Monthly_102023_22Z_V3.geojson',\n",
       " 'HAQ_TEMPO_NO2_CONUS_QA75_L3_Monthly_042024_11Z_V3.geojson',\n",
       " 'HAQ_TEMPO_NO2_CONUS_QA75_L3_Monthly_022024_20Z_V3.geojson',\n",
       " 'HAQ_TEMPO_NO2_CONUS_QA75_L3_Monthly_092023_18Z_V3.geojson',\n",
       " 'HAQ_TEMPO_NO2_CONUS_QA75_L3_Monthly_012024_17Z_V3.geojson']"
      ]
     },
     "execution_count": 4,
     "metadata": {},
     "output_type": "execute_result"
    }
   ],
   "source": [
    "file_list = glob.glob(\"*.geojson\")\n",
    "file_list"
   ]
  },
  {
   "cell_type": "code",
   "execution_count": 5,
   "id": "ab6414d5",
   "metadata": {},
   "outputs": [],
   "source": [
    "def extract_date_from_filename(filename):\n",
    "    # Use regular expression to capture the date between 'Monthly_' and '_V3'\n",
    "    match = re.search(r'Monthly_(\\d{6})', filename)\n",
    "    if match:\n",
    "        return match.group(1)\n",
    "    else:\n",
    "        return None  # In case the date is not found"
   ]
  },
  {
   "cell_type": "code",
   "execution_count": 6,
   "id": "9e644c6a",
   "metadata": {},
   "outputs": [],
   "source": [
    "def extract_time_from_filename(filename):\n",
    "    match = re.search(r'(\\d{2}Z)', filename)\n",
    "    if match:\n",
    "        return match.group(1)\n",
    "    else:\n",
    "        return None  # In case the time is not found"
   ]
  },
  {
   "cell_type": "code",
   "execution_count": null,
   "id": "2ea0daf4",
   "metadata": {},
   "outputs": [],
   "source": [
    "gdfs = []\n",
    "for file in file_list:\n",
    "    # print(file)\n",
    "    gdf = gpd.read_file(file)\n",
    "    # Extract the date from the filename\n",
    "    date_str = extract_date_from_filename(file)\n",
    "    time_str = extract_time_from_filename(file)\n",
    "    gdf['date'] = pd.to_datetime(date_str, format='%m%Y')\n",
    "    gdf['time'] = time_str\n",
    "    gdfs.append(gdf)\n",
    "\n",
    "gdfs_cleaned = [gdf.dropna(axis=1, how='all') for gdf in gdfs]"
   ]
  },
  {
   "cell_type": "code",
   "execution_count": null,
   "id": "d62e7dba",
   "metadata": {},
   "outputs": [],
   "source": [
    "monthly_gdf = pd.concat(gdfs_cleaned, ignore_index=True)"
   ]
  },
  {
   "cell_type": "code",
   "execution_count": null,
   "id": "c31f9a0a",
   "metadata": {},
   "outputs": [],
   "source": [
    "# I only want fips 8013 and and 8031\n",
    "fips_to_keep = [\"8013\", \"8031\"] \n",
    "monthly_gdf[\"FIPS_new\"] = monthly_gdf[\"FIPS_new\"].astype(str)\n",
    "filtered_gdf = monthly_gdf[monthly_gdf[\"FIPS_new\"].isin(fips_to_keep)]"
   ]
  },
  {
   "cell_type": "code",
   "execution_count": null,
   "id": "0b405c5d",
   "metadata": {},
   "outputs": [],
   "source": [
    "census_gdf = gpd.read_file('../preprocess/Colorado_Census_Tract_Boundaries.geojson')\n",
    "census_gdf"
   ]
  },
  {
   "cell_type": "code",
   "execution_count": null,
   "id": "1641b29a",
   "metadata": {},
   "outputs": [],
   "source": [
    "df = pd.read_csv('../preprocess/state_and_county_fips_master.csv')\n",
    "df"
   ]
  },
  {
   "cell_type": "code",
   "execution_count": null,
   "id": "f563b2a1",
   "metadata": {},
   "outputs": [],
   "source": [
    "co_df = df[df['state']=='CO'] # Filter to only Colorado\n",
    "# Create new column with County FIPS from tract fips\n",
    "census_gdf['FIPS_new'] = census_gdf['FIPS'].str[:5].str.lstrip('0').astype(int)\n",
    "census_gdf"
   ]
  },
  {
   "cell_type": "code",
   "execution_count": null,
   "id": "f4fe3a17",
   "metadata": {},
   "outputs": [],
   "source": [
    "filtered_gdf = filtered_gdf.to_crs(census_gdf.crs)\n",
    "filtered_gdf\n",
    "\n",
    "census_gdf['FIPS_new'] = census_gdf['FIPS_new'].astype('int64')\n",
    "filtered_gdf['FIPS_new'] = filtered_gdf['FIPS_new'].astype('int64')"
   ]
  },
  {
   "cell_type": "code",
   "execution_count": null,
   "id": "be7de958",
   "metadata": {},
   "outputs": [],
   "source": [
    "joined_gdf_1 = gpd.sjoin(filtered_gdf, census_gdf, how='inner', predicate='intersects')  # or use 'within', 'contains', etc.\n",
    "joined_gdf_1"
   ]
  },
  {
   "cell_type": "code",
   "execution_count": null,
   "id": "ee7b2687",
   "metadata": {},
   "outputs": [],
   "source": [
    "joined_gdf = census_gdf.merge(filtered_gdf, on='FIPS_new', how='inner')  # Change 'inner' to 'left', 'right', or 'outer' if needed\n",
    "\n",
    "joined_gdf.head()"
   ]
  },
  {
   "cell_type": "code",
   "execution_count": null,
   "id": "2e3c75e8",
   "metadata": {},
   "outputs": [],
   "source": []
  },
  {
   "cell_type": "code",
   "execution_count": null,
   "id": "cb78a0a3",
   "metadata": {},
   "outputs": [],
   "source": []
  }
 ],
 "metadata": {
  "kernelspec": {
   "display_name": "Python 3 (ipykernel)",
   "language": "python",
   "name": "python3"
  },
  "language_info": {
   "codemirror_mode": {
    "name": "ipython",
    "version": 3
   },
   "file_extension": ".py",
   "mimetype": "text/x-python",
   "name": "python",
   "nbconvert_exporter": "python",
   "pygments_lexer": "ipython3",
   "version": "3.12.7"
  }
 },
 "nbformat": 4,
 "nbformat_minor": 5
}
