{
 "cells": [
  {
   "cell_type": "code",
   "execution_count": 1,
   "id": "b8a11315",
   "metadata": {},
   "outputs": [],
   "source": [
    "import os\n",
    "import glob \n",
    "import re\n",
    "\n",
    "from datetime import datetime\n",
    "import earthpy as et\n",
    "import geojson\n",
    "import pandas as pd\n",
    "import geopandas as gpd\n",
    "import matplotlib.pyplot as plt\n",
    "import pytz\n"
   ]
  },
  {
   "cell_type": "code",
   "execution_count": 2,
   "id": "0e4401a6",
   "metadata": {},
   "outputs": [
    {
     "data": {
      "text/plain": [
       "'/Users/robynmarowitz/projects/tempo-site/data/textile-source'"
      ]
     },
     "execution_count": 2,
     "metadata": {},
     "output_type": "execute_result"
    }
   ],
   "source": [
    "pwd"
   ]
  },
  {
   "cell_type": "code",
   "execution_count": 3,
   "id": "f760159b",
   "metadata": {},
   "outputs": [],
   "source": [
    "os.chdir(\"../monthly\")\n",
    "# print(glob.glob('*'))"
   ]
  },
  {
   "cell_type": "code",
   "execution_count": 4,
   "id": "bdcdcaab",
   "metadata": {},
   "outputs": [
    {
     "data": {
      "text/plain": [
       "['HAQ_TEMPO_NO2_CONUS_QA75_L3_Monthly_022024_15Z_V3.geojson',\n",
       " 'HAQ_TEMPO_NO2_CONUS_QA75_L3_Monthly_062024_01Z_V3.geojson',\n",
       " 'HAQ_TEMPO_NO2_CONUS_QA75_L3_Monthly_082023_11Z_V3.geojson',\n",
       " 'HAQ_TEMPO_NO2_CONUS_QA75_L3_Monthly_082024_18Z_V3.geojson',\n",
       " 'HAQ_TEMPO_NO2_CONUS_QA75_L3_Monthly_052024_18Z_V3.geojson',\n",
       " 'HAQ_TEMPO_NO2_CONUS_QA75_L3_Monthly_072024_13Z_V3.geojson',\n",
       " 'HAQ_TEMPO_NO2_CONUS_QA75_L3_Monthly_112023_19Z_V3.geojson',\n",
       " 'HAQ_TEMPO_NO2_CONUS_QA75_L3_Monthly_012024_22Z_V3.geojson',\n",
       " 'HAQ_TEMPO_NO2_CONUS_QA75_L3_Monthly_042024_16Z_V3.geojson',\n",
       " 'HAQ_TEMPO_NO2_CONUS_QA75_L3_Monthly_082023_23Z_V3.geojson',\n",
       " 'HAQ_TEMPO_NO2_CONUS_QA75_L3_Monthly_102023_17Z_V3.geojson',\n",
       " 'HAQ_TEMPO_NO2_CONUS_QA75_L3_Monthly_072024_21Z_V3.geojson',\n",
       " 'HAQ_TEMPO_NO2_CONUS_QA75_L3_Monthly_052024_11Z_V3.geojson',\n",
       " 'HAQ_TEMPO_NO2_CONUS_QA75_L3_Monthly_082024_11Z_V3.geojson',\n",
       " 'HAQ_TEMPO_NO2_CONUS_QA75_L3_Monthly_082023_18Z_V3.geojson',\n",
       " 'HAQ_TEMPO_NO2_CONUS_QA75_L3_Monthly_032024_20Z_V3.geojson',\n",
       " 'HAQ_TEMPO_NO2_CONUS_QA75_L3_Monthly_082024_23Z_V3.geojson',\n",
       " 'HAQ_TEMPO_NO2_CONUS_QA75_L3_Monthly_032024_12Z_V3.geojson',\n",
       " 'HAQ_TEMPO_NO2_CONUS_QA75_L3_Monthly_122023_15Z_V3.geojson',\n",
       " 'HAQ_TEMPO_NO2_CONUS_QA75_L3_Monthly_092023_16Z_V3.geojson',\n",
       " 'HAQ_TEMPO_NO2_CONUS_QA75_L3_Monthly_052024_23Z_V3.geojson',\n",
       " 'HAQ_TEMPO_NO2_CONUS_QA75_L3_Monthly_022024_00Z_V3.geojson',\n",
       " 'HAQ_TEMPO_NO2_CONUS_QA75_L3_Monthly_062024_14Z_V3.geojson',\n",
       " 'HAQ_TEMPO_NO2_CONUS_QA75_L3_Monthly_012024_19Z_V3.geojson',\n",
       " 'HAQ_TEMPO_NO2_CONUS_QA75_L3_Monthly_112023_22Z_V3.geojson',\n",
       " 'HAQ_TEMPO_NO2_CONUS_QA75_L3_Monthly_062024_23Z_V3.geojson',\n",
       " 'HAQ_TEMPO_NO2_CONUS_QA75_L3_Monthly_112023_15Z_V3.geojson',\n",
       " 'HAQ_TEMPO_NO2_CONUS_QA75_L3_Monthly_092023_21Z_V3.geojson',\n",
       " 'HAQ_TEMPO_NO2_CONUS_QA75_L3_Monthly_022024_19Z_V3.geojson',\n",
       " 'HAQ_TEMPO_NO2_CONUS_QA75_L3_Monthly_082024_14Z_V3.geojson',\n",
       " 'HAQ_TEMPO_NO2_CONUS_QA75_L3_Monthly_122023_22Z_V3.geojson',\n",
       " 'HAQ_TEMPO_NO2_CONUS_QA75_L3_Monthly_052024_14Z_V3.geojson',\n",
       " 'HAQ_TEMPO_NO2_CONUS_QA75_L3_Monthly_062024_11Z_V3.geojson',\n",
       " 'HAQ_TEMPO_NO2_CONUS_QA75_L3_Monthly_082023_01Z_V3.geojson',\n",
       " 'HAQ_TEMPO_NO2_CONUS_QA75_L3_Monthly_092023_13Z_V3.geojson',\n",
       " 'HAQ_TEMPO_NO2_CONUS_QA75_L3_Monthly_032024_17Z_V3.geojson',\n",
       " 'HAQ_TEMPO_NO2_CONUS_QA75_L3_Monthly_102023_20Z_V3.geojson',\n",
       " 'HAQ_TEMPO_NO2_CONUS_QA75_L3_Monthly_072024_16Z_V3.geojson',\n",
       " 'HAQ_TEMPO_NO2_CONUS_QA75_L3_Monthly_042024_21Z_V3.geojson',\n",
       " 'HAQ_TEMPO_NO2_CONUS_QA75_L3_Monthly_082023_14Z_V3.geojson',\n",
       " 'HAQ_TEMPO_NO2_CONUS_QA75_L3_Monthly_082024_01Z_V3.geojson',\n",
       " 'HAQ_TEMPO_NO2_CONUS_QA75_L3_Monthly_062024_18Z_V3.geojson',\n",
       " 'HAQ_TEMPO_NO2_CONUS_QA75_L3_Monthly_012024_15Z_V3.geojson',\n",
       " 'HAQ_TEMPO_NO2_CONUS_QA75_L3_Monthly_102023_12Z_V3.geojson',\n",
       " 'HAQ_TEMPO_NO2_CONUS_QA75_L3_Monthly_052024_01Z_V3.geojson',\n",
       " 'HAQ_TEMPO_NO2_CONUS_QA75_L3_Monthly_122023_19Z_V3.geojson',\n",
       " 'HAQ_TEMPO_NO2_CONUS_QA75_L3_Monthly_022024_22Z_V3.geojson',\n",
       " 'HAQ_TEMPO_NO2_CONUS_QA75_L3_Monthly_112023_00Z_V3.geojson',\n",
       " 'HAQ_TEMPO_NO2_CONUS_QA75_L3_Monthly_042024_13Z_V3.geojson',\n",
       " 'HAQ_TEMPO_NO2_CONUS_QA75_L3_Monthly_092023_19Z_V3.geojson',\n",
       " 'HAQ_TEMPO_NO2_CONUS_QA75_L3_Monthly_022024_21Z_V3.geojson',\n",
       " 'HAQ_TEMPO_NO2_CONUS_QA75_L3_Monthly_012024_16Z_V3.geojson',\n",
       " 'HAQ_TEMPO_NO2_CONUS_QA75_L3_Monthly_102023_11Z_V3.geojson',\n",
       " 'HAQ_TEMPO_NO2_CONUS_QA75_L3_Monthly_042024_22Z_V3.geojson',\n",
       " 'HAQ_TEMPO_NO2_CONUS_QA75_L3_Monthly_022024_13Z_V3.geojson',\n",
       " 'HAQ_TEMPO_NO2_CONUS_QA75_L3_Monthly_082023_17Z_V3.geojson',\n",
       " 'HAQ_TEMPO_NO2_CONUS_QA75_L3_Monthly_102023_23Z_V3.geojson',\n",
       " 'HAQ_TEMPO_NO2_CONUS_QA75_L3_Monthly_072024_15Z_V3.geojson',\n",
       " 'HAQ_TEMPO_NO2_CONUS_QA75_L3_Monthly_042024_19Z_V3.geojson',\n",
       " 'HAQ_TEMPO_NO2_CONUS_QA75_L3_Monthly_032024_14Z_V3.geojson',\n",
       " 'HAQ_TEMPO_NO2_CONUS_QA75_L3_Monthly_122023_13Z_V3.geojson',\n",
       " 'HAQ_TEMPO_NO2_CONUS_QA75_L3_Monthly_072024_00Z_V3.geojson',\n",
       " 'HAQ_TEMPO_NO2_CONUS_QA75_L3_Monthly_102023_18Z_V3.geojson',\n",
       " 'HAQ_TEMPO_NO2_CONUS_QA75_L3_Monthly_062024_12Z_V3.geojson',\n",
       " 'HAQ_TEMPO_NO2_CONUS_QA75_L3_Monthly_122023_21Z_V3.geojson',\n",
       " 'HAQ_TEMPO_NO2_CONUS_QA75_L3_Monthly_082024_17Z_V3.geojson',\n",
       " 'HAQ_TEMPO_NO2_CONUS_QA75_L3_Monthly_092023_22Z_V3.geojson',\n",
       " 'HAQ_TEMPO_NO2_CONUS_QA75_L3_Monthly_052024_17Z_V3.geojson',\n",
       " 'HAQ_TEMPO_NO2_CONUS_QA75_L3_Monthly_062024_20Z_V3.geojson',\n",
       " 'HAQ_TEMPO_NO2_CONUS_QA75_L3_Monthly_112023_16Z_V3.geojson',\n",
       " 'HAQ_TEMPO_NO2_CONUS_QA75_L3_Monthly_062024_17Z_V3.geojson',\n",
       " 'HAQ_TEMPO_NO2_CONUS_QA75_L3_Monthly_112023_21Z_V3.geojson',\n",
       " 'HAQ_TEMPO_NO2_CONUS_QA75_L3_Monthly_092023_15Z_V3.geojson',\n",
       " 'HAQ_TEMPO_NO2_CONUS_QA75_L3_Monthly_032024_11Z_V3.geojson',\n",
       " 'HAQ_TEMPO_NO2_CONUS_QA75_L3_Monthly_122023_16Z_V3.geojson',\n",
       " 'HAQ_TEMPO_NO2_CONUS_QA75_L3_Monthly_082024_20Z_V3.geojson',\n",
       " 'HAQ_TEMPO_NO2_CONUS_QA75_L3_Monthly_052024_20Z_V3.geojson',\n",
       " 'HAQ_TEMPO_NO2_CONUS_QA75_L3_Monthly_112023_13Z_V3.geojson',\n",
       " 'HAQ_TEMPO_NO2_CONUS_QA75_L3_Monthly_042024_00Z_V3.geojson',\n",
       " 'HAQ_TEMPO_NO2_CONUS_QA75_L3_Monthly_072024_19Z_V3.geojson',\n",
       " 'HAQ_TEMPO_NO2_CONUS_QA75_L3_Monthly_052024_12Z_V3.geojson',\n",
       " 'HAQ_TEMPO_NO2_CONUS_QA75_L3_Monthly_032024_23Z_V3.geojson',\n",
       " 'HAQ_TEMPO_NO2_CONUS_QA75_L3_Monthly_082024_12Z_V3.geojson',\n",
       " 'HAQ_TEMPO_NO2_CONUS_QA75_L3_Monthly_012024_13Z_V3.geojson',\n",
       " 'HAQ_TEMPO_NO2_CONUS_QA75_L3_Monthly_102023_14Z_V3.geojson',\n",
       " 'HAQ_TEMPO_NO2_CONUS_QA75_L3_Monthly_072024_22Z_V3.geojson',\n",
       " 'HAQ_TEMPO_NO2_CONUS_QA75_L3_Monthly_042024_15Z_V3.geojson',\n",
       " 'HAQ_TEMPO_NO2_CONUS_QA75_L3_Monthly_082023_20Z_V3.geojson',\n",
       " 'HAQ_TEMPO_NO2_CONUS_QA75_L3_Monthly_032024_18Z_V3.geojson',\n",
       " 'HAQ_TEMPO_NO2_CONUS_QA75_L3_Monthly_092023_00Z_V3.geojson',\n",
       " 'HAQ_TEMPO_NO2_CONUS_QA75_L3_Monthly_012024_21Z_V3.geojson',\n",
       " 'HAQ_TEMPO_NO2_CONUS_QA75_L3_Monthly_082023_12Z_V3.geojson',\n",
       " 'HAQ_TEMPO_NO2_CONUS_QA75_L3_Monthly_022024_16Z_V3.geojson',\n",
       " 'HAQ_TEMPO_NO2_CONUS_QA75_L3_Monthly_052024_00Z_V3.geojson',\n",
       " 'HAQ_TEMPO_NO2_CONUS_QA75_L3_Monthly_102023_13Z_V3.geojson',\n",
       " 'HAQ_TEMPO_NO2_CONUS_QA75_L3_Monthly_012024_14Z_V3.geojson',\n",
       " 'HAQ_TEMPO_NO2_CONUS_QA75_L3_Monthly_062024_19Z_V3.geojson',\n",
       " 'HAQ_TEMPO_NO2_CONUS_QA75_L3_Monthly_082024_00Z_V3.geojson',\n",
       " 'HAQ_TEMPO_NO2_CONUS_QA75_L3_Monthly_042024_12Z_V3.geojson',\n",
       " 'HAQ_TEMPO_NO2_CONUS_QA75_L3_Monthly_022024_23Z_V3.geojson',\n",
       " 'HAQ_TEMPO_NO2_CONUS_QA75_L3_Monthly_122023_18Z_V3.geojson',\n",
       " 'HAQ_TEMPO_NO2_CONUS_QA75_L3_Monthly_072024_17Z_V3.geojson',\n",
       " 'HAQ_TEMPO_NO2_CONUS_QA75_L3_Monthly_102023_21Z_V3.geojson',\n",
       " 'HAQ_TEMPO_NO2_CONUS_QA75_L3_Monthly_082023_15Z_V3.geojson',\n",
       " 'HAQ_TEMPO_NO2_CONUS_QA75_L3_Monthly_042024_20Z_V3.geojson',\n",
       " 'HAQ_TEMPO_NO2_CONUS_QA75_L3_Monthly_082023_00Z_V3.geojson',\n",
       " 'HAQ_TEMPO_NO2_CONUS_QA75_L3_Monthly_032024_16Z_V3.geojson',\n",
       " 'HAQ_TEMPO_NO2_CONUS_QA75_L3_Monthly_092023_12Z_V3.geojson',\n",
       " 'HAQ_TEMPO_NO2_CONUS_QA75_L3_Monthly_112023_14Z_V3.geojson',\n",
       " 'HAQ_TEMPO_NO2_CONUS_QA75_L3_Monthly_062024_22Z_V3.geojson',\n",
       " 'HAQ_TEMPO_NO2_CONUS_QA75_L3_Monthly_052024_15Z_V3.geojson',\n",
       " 'HAQ_TEMPO_NO2_CONUS_QA75_L3_Monthly_122023_23Z_V3.geojson',\n",
       " 'HAQ_TEMPO_NO2_CONUS_QA75_L3_Monthly_082024_15Z_V3.geojson',\n",
       " 'HAQ_TEMPO_NO2_CONUS_QA75_L3_Monthly_022024_18Z_V3.geojson',\n",
       " 'HAQ_TEMPO_NO2_CONUS_QA75_L3_Monthly_092023_20Z_V3.geojson',\n",
       " 'HAQ_TEMPO_NO2_CONUS_QA75_L3_Monthly_052024_22Z_V3.geojson',\n",
       " 'HAQ_TEMPO_NO2_CONUS_QA75_L3_Monthly_092023_17Z_V3.geojson',\n",
       " 'HAQ_TEMPO_NO2_CONUS_QA75_L3_Monthly_122023_14Z_V3.geojson',\n",
       " 'HAQ_TEMPO_NO2_CONUS_QA75_L3_Monthly_032024_13Z_V3.geojson',\n",
       " 'HAQ_TEMPO_NO2_CONUS_QA75_L3_Monthly_082024_22Z_V3.geojson',\n",
       " 'HAQ_TEMPO_NO2_CONUS_QA75_L3_Monthly_112023_23Z_V3.geojson',\n",
       " 'HAQ_TEMPO_NO2_CONUS_QA75_L3_Monthly_012024_18Z_V3.geojson',\n",
       " 'HAQ_TEMPO_NO2_CONUS_QA75_L3_Monthly_062024_15Z_V3.geojson',\n",
       " 'HAQ_TEMPO_NO2_CONUS_QA75_L3_Monthly_032024_21Z_V3.geojson',\n",
       " 'HAQ_TEMPO_NO2_CONUS_QA75_L3_Monthly_082023_19Z_V3.geojson',\n",
       " 'HAQ_TEMPO_NO2_CONUS_QA75_L3_Monthly_112023_11Z_V3.geojson',\n",
       " 'HAQ_TEMPO_NO2_CONUS_QA75_L3_Monthly_082023_22Z_V3.geojson',\n",
       " 'HAQ_TEMPO_NO2_CONUS_QA75_L3_Monthly_042024_17Z_V3.geojson',\n",
       " 'HAQ_TEMPO_NO2_CONUS_QA75_L3_Monthly_072024_20Z_V3.geojson',\n",
       " 'HAQ_TEMPO_NO2_CONUS_QA75_L3_Monthly_102023_16Z_V3.geojson',\n",
       " 'HAQ_TEMPO_NO2_CONUS_QA75_L3_Monthly_052024_19Z_V3.geojson',\n",
       " 'HAQ_TEMPO_NO2_CONUS_QA75_L3_Monthly_082024_19Z_V3.geojson',\n",
       " 'HAQ_TEMPO_NO2_CONUS_QA75_L3_Monthly_062024_00Z_V3.geojson',\n",
       " 'HAQ_TEMPO_NO2_CONUS_QA75_L3_Monthly_022024_14Z_V3.geojson',\n",
       " 'HAQ_TEMPO_NO2_CONUS_QA75_L3_Monthly_012024_23Z_V3.geojson',\n",
       " 'HAQ_TEMPO_NO2_CONUS_QA75_L3_Monthly_112023_18Z_V3.geojson',\n",
       " 'HAQ_TEMPO_NO2_CONUS_QA75_L3_Monthly_072024_12Z_V3.geojson',\n",
       " 'HAQ_TEMPO_NO2_CONUS_QA75_L3_Monthly_012024_20Z_V3.geojson',\n",
       " 'HAQ_TEMPO_NO2_CONUS_QA75_L3_Monthly_092023_01Z_V3.geojson',\n",
       " 'HAQ_TEMPO_NO2_CONUS_QA75_L3_Monthly_072024_11Z_V3.geojson',\n",
       " 'HAQ_TEMPO_NO2_CONUS_QA75_L3_Monthly_022024_17Z_V3.geojson',\n",
       " 'HAQ_TEMPO_NO2_CONUS_QA75_L3_Monthly_082023_13Z_V3.geojson',\n",
       " 'HAQ_TEMPO_NO2_CONUS_QA75_L3_Monthly_072024_23Z_V3.geojson',\n",
       " 'HAQ_TEMPO_NO2_CONUS_QA75_L3_Monthly_102023_15Z_V3.geojson',\n",
       " 'HAQ_TEMPO_NO2_CONUS_QA75_L3_Monthly_012024_12Z_V3.geojson',\n",
       " 'HAQ_TEMPO_NO2_CONUS_QA75_L3_Monthly_032024_19Z_V3.geojson',\n",
       " 'HAQ_TEMPO_NO2_CONUS_QA75_L3_Monthly_082023_21Z_V3.geojson',\n",
       " 'HAQ_TEMPO_NO2_CONUS_QA75_L3_Monthly_042024_14Z_V3.geojson',\n",
       " 'HAQ_TEMPO_NO2_CONUS_QA75_L3_Monthly_072024_18Z_V3.geojson',\n",
       " 'HAQ_TEMPO_NO2_CONUS_QA75_L3_Monthly_042024_01Z_V3.geojson',\n",
       " 'HAQ_TEMPO_NO2_CONUS_QA75_L3_Monthly_112023_12Z_V3.geojson',\n",
       " 'HAQ_TEMPO_NO2_CONUS_QA75_L3_Monthly_082024_13Z_V3.geojson',\n",
       " 'HAQ_TEMPO_NO2_CONUS_QA75_L3_Monthly_032024_22Z_V3.geojson',\n",
       " 'HAQ_TEMPO_NO2_CONUS_QA75_L3_Monthly_052024_13Z_V3.geojson',\n",
       " 'HAQ_TEMPO_NO2_CONUS_QA75_L3_Monthly_102023_00Z_V3.geojson',\n",
       " 'HAQ_TEMPO_NO2_CONUS_QA75_L3_Monthly_112023_20Z_V3.geojson',\n",
       " 'HAQ_TEMPO_NO2_CONUS_QA75_L3_Monthly_062024_16Z_V3.geojson',\n",
       " 'HAQ_TEMPO_NO2_CONUS_QA75_L3_Monthly_052024_21Z_V3.geojson',\n",
       " 'HAQ_TEMPO_NO2_CONUS_QA75_L3_Monthly_082024_21Z_V3.geojson',\n",
       " 'HAQ_TEMPO_NO2_CONUS_QA75_L3_Monthly_122023_17Z_V3.geojson',\n",
       " 'HAQ_TEMPO_NO2_CONUS_QA75_L3_Monthly_092023_14Z_V3.geojson',\n",
       " 'HAQ_TEMPO_NO2_CONUS_QA75_L3_Monthly_052024_16Z_V3.geojson',\n",
       " 'HAQ_TEMPO_NO2_CONUS_QA75_L3_Monthly_092023_23Z_V3.geojson',\n",
       " 'HAQ_TEMPO_NO2_CONUS_QA75_L3_Monthly_082024_16Z_V3.geojson',\n",
       " 'HAQ_TEMPO_NO2_CONUS_QA75_L3_Monthly_122023_20Z_V3.geojson',\n",
       " 'HAQ_TEMPO_NO2_CONUS_QA75_L3_Monthly_112023_17Z_V3.geojson',\n",
       " 'HAQ_TEMPO_NO2_CONUS_QA75_L3_Monthly_062024_21Z_V3.geojson',\n",
       " 'HAQ_TEMPO_NO2_CONUS_QA75_L3_Monthly_092023_11Z_V3.geojson',\n",
       " 'HAQ_TEMPO_NO2_CONUS_QA75_L3_Monthly_072024_01Z_V3.geojson',\n",
       " 'HAQ_TEMPO_NO2_CONUS_QA75_L3_Monthly_122023_12Z_V3.geojson',\n",
       " 'HAQ_TEMPO_NO2_CONUS_QA75_L3_Monthly_032024_15Z_V3.geojson',\n",
       " 'HAQ_TEMPO_NO2_CONUS_QA75_L3_Monthly_042024_18Z_V3.geojson',\n",
       " 'HAQ_TEMPO_NO2_CONUS_QA75_L3_Monthly_062024_13Z_V3.geojson',\n",
       " 'HAQ_TEMPO_NO2_CONUS_QA75_L3_Monthly_102023_19Z_V3.geojson',\n",
       " 'HAQ_TEMPO_NO2_CONUS_QA75_L3_Monthly_082023_16Z_V3.geojson',\n",
       " 'HAQ_TEMPO_NO2_CONUS_QA75_L3_Monthly_022024_12Z_V3.geojson',\n",
       " 'HAQ_TEMPO_NO2_CONUS_QA75_L3_Monthly_042024_23Z_V3.geojson',\n",
       " 'HAQ_TEMPO_NO2_CONUS_QA75_L3_Monthly_072024_14Z_V3.geojson',\n",
       " 'HAQ_TEMPO_NO2_CONUS_QA75_L3_Monthly_032024_00Z_V3.geojson',\n",
       " 'HAQ_TEMPO_NO2_CONUS_QA75_L3_Monthly_102023_22Z_V3.geojson',\n",
       " 'HAQ_TEMPO_NO2_CONUS_QA75_L3_Monthly_042024_11Z_V3.geojson',\n",
       " 'HAQ_TEMPO_NO2_CONUS_QA75_L3_Monthly_022024_20Z_V3.geojson',\n",
       " 'HAQ_TEMPO_NO2_CONUS_QA75_L3_Monthly_092023_18Z_V3.geojson',\n",
       " 'HAQ_TEMPO_NO2_CONUS_QA75_L3_Monthly_012024_17Z_V3.geojson']"
      ]
     },
     "execution_count": 4,
     "metadata": {},
     "output_type": "execute_result"
    }
   ],
   "source": [
    "file_list = glob.glob(\"*.geojson\")\n",
    "file_list"
   ]
  },
  {
   "cell_type": "code",
   "execution_count": 5,
   "id": "ab6414d5",
   "metadata": {},
   "outputs": [],
   "source": [
    "def extract_date_from_filename(filename):\n",
    "    # Use regular expression to capture the date between 'Monthly_' and '_V3'\n",
    "    match = re.search(r'Monthly_(\\d{6})', filename)\n",
    "    if match:\n",
    "        return match.group(1)\n",
    "    else:\n",
    "        return None  # In case the date is not found"
   ]
  },
  {
   "cell_type": "code",
   "execution_count": 6,
   "id": "9e644c6a",
   "metadata": {},
   "outputs": [],
   "source": [
    "def extract_time_from_filename(filename):\n",
    "    match = re.search(r'(\\d{2}Z)', filename)\n",
    "    if match:\n",
    "        hour_int = match.group(1)[:2]\n",
    "        return hour_int\n",
    "    else:\n",
    "        return None  # In case the time is not found"
   ]
  },
  {
   "cell_type": "code",
   "execution_count": 7,
   "id": "d361472d",
   "metadata": {},
   "outputs": [],
   "source": [
    "def convert_to_mountain_time(utc_hour):\n",
    "    if utc_hour is not None:\n",
    "        # Create a datetime object in UTC\n",
    "        utc_time = datetime.strptime(f'{utc_hour}:00:00', '%H:%M:%S')\n",
    "        utc_time = pytz.utc.localize(utc_time)  # Localize to UTC\n",
    "        \n",
    "        # Convert to Mountain Time (Colorado)\n",
    "        mountain_time = utc_time.astimezone(pytz.timezone('America/Denver'))\n",
    "        \n",
    "        # Return the hour in Mountain Time\n",
    "        return mountain_time.hour\n",
    "    else:\n",
    "        return None  # Return None if the time is invalid or missing"
   ]
  },
  {
   "cell_type": "code",
   "execution_count": null,
   "id": "2ea0daf4",
   "metadata": {},
   "outputs": [],
   "source": [
    "gdfs = []\n",
    "for file in file_list:\n",
    "    # print(file)\n",
    "    gdf = gpd.read_file(file)\n",
    "    # Extract the date from the filename\n",
    "    date_str = extract_date_from_filename(file)\n",
    "    time_int = extract_time_from_filename(file)\n",
    "    gdf['date'] = pd.to_datetime(date_str, format='%m%Y')\n",
    "    gdf['hour_utc'] = time_int\n",
    "    gdfs.append(gdf)\n",
    "\n",
    "gdfs_cleaned = [gdf.dropna(axis=1, how='all') for gdf in gdfs]\n",
    "gdfs_cleaned[0]"
   ]
  },
  {
   "cell_type": "code",
   "execution_count": null,
   "id": "d62e7dba",
   "metadata": {},
   "outputs": [],
   "source": [
    "monthly_gdf = pd.concat(gdfs_cleaned, ignore_index=True)\n",
    "monthly_gdf"
   ]
  },
  {
   "cell_type": "code",
   "execution_count": null,
   "id": "686d13a5",
   "metadata": {},
   "outputs": [],
   "source": [
    "monthly_gdf['hour_mountain'] = monthly_gdf['hour_utc'].apply(convert_to_mountain_time)\n",
    "monthly_gdf"
   ]
  },
  {
   "cell_type": "code",
   "execution_count": null,
   "id": "c31f9a0a",
   "metadata": {},
   "outputs": [],
   "source": [
    "# I only want fips 8013 and and 8031\n",
    "fips_to_keep = [\"8013\", \"8031\"] \n",
    "monthly_gdf[\"FIPS_new\"] = monthly_gdf[\"FIPS_new\"].astype(str)\n",
    "filtered_gdf = monthly_gdf[monthly_gdf[\"FIPS_new\"].isin(fips_to_keep)]"
   ]
  },
  {
   "cell_type": "code",
   "execution_count": null,
   "id": "0b405c5d",
   "metadata": {},
   "outputs": [],
   "source": [
    "census_gdf = gpd.read_file('../preprocess/Colorado_Census_Tract_Boundaries.geojson')\n",
    "# census_gdf"
   ]
  },
  {
   "cell_type": "code",
   "execution_count": null,
   "id": "1641b29a",
   "metadata": {},
   "outputs": [],
   "source": [
    "df = pd.read_csv('../preprocess/state_and_county_fips_master.csv')\n",
    "# df"
   ]
  },
  {
   "cell_type": "code",
   "execution_count": null,
   "id": "f563b2a1",
   "metadata": {},
   "outputs": [],
   "source": [
    "co_df = df[df['state']=='CO'] # Filter to only Colorado\n",
    "# Create new column with County FIPS from tract fips\n",
    "census_gdf['FIPS_new'] = census_gdf['FIPS'].str[:5].str.lstrip('0').astype(int)\n",
    "census_gdf"
   ]
  },
  {
   "cell_type": "code",
   "execution_count": null,
   "id": "f4fe3a17",
   "metadata": {},
   "outputs": [],
   "source": [
    "filtered_gdf = filtered_gdf.to_crs(census_gdf.crs)\n",
    "census_gdf['FIPS_new'] = census_gdf['FIPS_new'].astype('int64')\n",
    "filtered_gdf['FIPS_new'] = filtered_gdf['FIPS_new'].astype('int64')\n",
    "filtered_gdf"
   ]
  },
  {
   "cell_type": "code",
   "execution_count": null,
   "id": "be7de958",
   "metadata": {},
   "outputs": [],
   "source": [
    "joined_gdf_1 = gpd.sjoin(filtered_gdf, census_gdf, how='inner', predicate='intersects')  # or use 'within', 'contains', etc.\n",
    "# joined_gdf_1"
   ]
  },
  {
   "cell_type": "code",
   "execution_count": null,
   "id": "ee7b2687",
   "metadata": {},
   "outputs": [],
   "source": [
    "joined_gdf = census_gdf.merge(filtered_gdf, on='FIPS_new', how='inner')  # Change 'inner' to 'left', 'right', or 'outer' if needed\n",
    "\n",
    "# joined_gdf.head()"
   ]
  },
  {
   "cell_type": "code",
   "execution_count": null,
   "id": "943b10e2",
   "metadata": {},
   "outputs": [],
   "source": [
    "bins = [0, 1, 2, 3, 4, 5, 6, float('inf')]\n",
    "bin_labels = ['0-1', '1-2', '2-3', '3-4', '4-5', '5-6', '6+']\n",
    "\n",
    "filtered_gdf['field_avg_bins'] = pd.cut(filtered_gdf['field_avg'], bins=bins, labels=bin_labels, right=False)\n",
    "monthly_gdf['field_avg_bins'] = pd.cut(monthly_gdf['field_avg'], bins=bins, labels=bin_labels, right=False)\n"
   ]
  },
  {
   "cell_type": "code",
   "execution_count": null,
   "id": "2e3c75e8",
   "metadata": {},
   "outputs": [],
   "source": [
    "filtered_gdf_bin_counts = filtered_gdf['field_avg_bins'].value_counts().sort_index()\n",
    "monthly_gdf_bin_counts = monthly_gdf['field_avg_bins'].value_counts().sort_index()\n"
   ]
  },
  {
   "cell_type": "code",
   "execution_count": null,
   "id": "cb78a0a3",
   "metadata": {},
   "outputs": [],
   "source": [
    "fig, axes = plt.subplots(1, 2, figsize=(12, 6))\n",
    "\n",
    "# Plot for filtered_gdf\n",
    "filtered_gdf_bin_counts.plot(kind='bar', ax=axes[0], color='skyblue')\n",
    "axes[0].set_title('Filtered GDF field_avg Distribution')\n",
    "axes[0].set_xlabel('field_avg Ranges')\n",
    "axes[0].set_ylabel('Count')\n",
    "\n",
    "# Plot for monthly_gdf\n",
    "monthly_gdf_bin_counts.plot(kind='bar', ax=axes[1], color='salmon')\n",
    "axes[1].set_title('Monthly GDF field_avg Distribution')\n",
    "axes[1].set_xlabel('field_avg Ranges')\n",
    "axes[1].set_ylabel('Count')\n",
    "\n",
    "plt.tight_layout()\n",
    "plt.show()"
   ]
  },
  {
   "cell_type": "code",
   "execution_count": null,
   "id": "07867e2a",
   "metadata": {},
   "outputs": [],
   "source": [
    "color_map = {\n",
    "    '0-1': 'royalblue',\n",
    "    '1-2': 'teal',\n",
    "    '2-3': 'seafoam',  # may need to specify a hex code for 'seafoam', e.g., '#9FE2BF'\n",
    "    '3-4': 'yellow',\n",
    "    '4-5': 'orange',\n",
    "    '5-6': 'salmon',\n",
    "    '6+': 'maroon'  # Highest value\n",
    "}\n"
   ]
  },
  {
   "cell_type": "markdown",
   "id": "f5b9600c",
   "metadata": {},
   "source": [
    "### hex colors for the range\n",
    "Dark Blue (0-1): #00008B  \n",
    "Teal (1-2): #008080  \n",
    "Seafoam (2-3): #2E8B57  \n",
    "Yellow (3-4): #FFFF00  \n",
    "Orange (4-5): #FFA500  \n",
    "Salmon (5-6): #FA8072  \n",
    "Maroon (6+): #800000"
   ]
  },
  {
   "cell_type": "code",
   "execution_count": null,
   "id": "c389d169",
   "metadata": {
    "scrolled": true
   },
   "outputs": [],
   "source": [
    "filtered_gdf['color'] = filtered_gdf['field_avg_bins'].map(color_map)\n",
    "filtered_gdf"
   ]
  },
  {
   "cell_type": "code",
   "execution_count": null,
   "id": "44238fac",
   "metadata": {},
   "outputs": [],
   "source": [
    "# Exclude rows where 'field_avg' is NaN\n",
    "filtered_gdf = filtered_gdf.dropna(subset=['field_avg'])\n",
    "\n",
    "# Now split the filtered DataFrame into FIPS_8013 and FIPS_8031\n",
    "gdf_fips_8013 = filtered_gdf[filtered_gdf['FIPS_new'] == 8013]\n",
    "gdf_fips_8031 = filtered_gdf[filtered_gdf['FIPS_new'] == 8031]\n"
   ]
  },
  {
   "cell_type": "code",
   "execution_count": null,
   "id": "9268611e",
   "metadata": {},
   "outputs": [],
   "source": [
    "# Drop the geometry column and export to CSV\n",
    "gdf_fips_8013.drop(columns='geometry').to_csv('fips_8013.csv', index=False)\n",
    "gdf_fips_8031.drop(columns='geometry').to_csv('fips_8031.csv', index=False)\n"
   ]
  },
  {
   "cell_type": "code",
   "execution_count": null,
   "id": "8996508c",
   "metadata": {},
   "outputs": [],
   "source": [
    "# get specifically \"08013012300\" - boulder\n",
    "target_fips = '08013012300'\n",
    "\n",
    "monthly_gdf[monthly_gdf['FIPS'].isin([target_fips])]\n",
    "gdf_fips_8013_specific = filtered_gdf[filtered_gdf['FIPS'] == target_fips]\n",
    "gdf_fips_8013_specific.drop(columns='geometry').to_csv('fips_08013012300.csv', index=False)\n"
   ]
  },
  {
   "cell_type": "code",
   "execution_count": null,
   "id": "ebebfb52",
   "metadata": {},
   "outputs": [],
   "source": []
  }
 ],
 "metadata": {
  "kernelspec": {
   "display_name": "Python 3 (ipykernel)",
   "language": "python",
   "name": "python3"
  },
  "language_info": {
   "codemirror_mode": {
    "name": "ipython",
    "version": 3
   },
   "file_extension": ".py",
   "mimetype": "text/x-python",
   "name": "python",
   "nbconvert_exporter": "python",
   "pygments_lexer": "ipython3",
   "version": "3.12.7"
  }
 },
 "nbformat": 4,
 "nbformat_minor": 5
}
