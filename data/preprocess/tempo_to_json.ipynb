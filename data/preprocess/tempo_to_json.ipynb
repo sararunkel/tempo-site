{
 "cells": [
  {
   "cell_type": "code",
   "execution_count": null,
   "metadata": {},
   "outputs": [],
   "source": [
    "import xarray as xr\n",
    "import json\n",
    "import pandas as pd\n",
    "import xesmf as xe\n",
    "import geopandas as gpd\n",
    "import pandas as pd"
   ]
  },
  {
   "cell_type": "code",
   "execution_count": null,
   "metadata": {},
   "outputs": [],
   "source": [
    "##Load data to see structure\n",
    "ds = xr.open_dataset('seasonal_lst/HAQ_TEMPO_NO2_CONUS_QA75_L3_Spring2024_3PM_V3.nc')\n",
    "ds"
   ]
  },
  {
   "cell_type": "code",
   "execution_count": null,
   "metadata": {},
   "outputs": [],
   "source": [
    "# Load the shapefile with CO Census Tracts\n",
    "gdf = gpd.read_file('Colorado_Census_Tract_Boundaries.geojson')\n",
    "# Load state and county fips to filter data\n",
    "df =pd.read_csv('state_and_county_fips_master.csv')\n",
    "co_df = df[df['state']=='CO'] # Filter to only Colorado\n",
    "# Create new column with County FIPS from tract fips\n",
    "gdf['FIPS_new'] = gdf['FIPS'].str[:5].str.lstrip('0').astype(int)"
   ]
  },
  {
   "cell_type": "code",
   "execution_count": null,
   "metadata": {},
   "outputs": [],
   "source": [
    "den_csa=[8031,8013,8014,8005,8059,8001,8035,8039,8093,8019,8047,8123] ##List of FIPS code in our area of interest\n",
    "#Filter GDF to only include Denver CSA\n",
    "filtered_gdf = gdf[gdf['FIPS_new'].isin(den_csa)]\n"
   ]
  },
  {
   "cell_type": "code",
   "execution_count": null,
   "metadata": {},
   "outputs": [],
   "source": [
    "#Load spatial averager (will take a few minutes)\n",
    "savg = xe.SpatialAverager(ds, filtered_gdf.geometry, geom_dim_name=\"tract\")\n",
    "savg"
   ]
  },
  {
   "cell_type": "code",
   "execution_count": null,
   "metadata": {},
   "outputs": [],
   "source": [
    "# Convert all files to geojson with the average value for each tract\n",
    "import os\n",
    "files = [f for f in os.listdir('seasonal_lst') if os.path.isfile(os.path.join('seasonal_lst', f))]\n",
    "\n",
    "for file_name in files:\n",
    "    # Construct the full file path\n",
    "    file_path = os.path.join('seasonal_lst', file_name)\n",
    "    regs = filtered_gdf.copy()\n",
    "    # Open the xarray Dataset\n",
    "    ds = xr.open_dataset(file_path)\n",
    "    out = savg(ds.Tropospheric_NO2)\n",
    "    out = out.assign_coords(FIPS=xr.DataArray(filtered_gdf[\"FIPS\"], dims=(\"tract\",)))\n",
    "    # Convert the Dataset to a dictionary\n",
    "    regs[\"field_avg\"] = out.values/1e15\n",
    "    base = os.path.sdata_arrayitext(os.path.basename(file_name))[0]\n",
    "    regs.to_file(f'../{base}.geojson', driver='GeoJSON')\n",
    "    # Get the base filename without extension"
   ]
  },
  {
   "cell_type": "code",
   "execution_count": null,
   "metadata": {},
   "outputs": [],
   "source": []
  }
 ],
 "metadata": {
  "kernelspec": {
   "display_name": "xesemf",
   "language": "python",
   "name": "python3"
  },
  "language_info": {
   "codemirror_mode": {
    "name": "ipython",
    "version": 3
   },
   "file_extension": ".py",
   "mimetype": "text/x-python",
   "name": "python",
   "nbconvert_exporter": "python",
   "pygments_lexer": "ipython3",
   "version": "3.12.7"
  }
 },
 "nbformat": 4,
 "nbformat_minor": 2
}
